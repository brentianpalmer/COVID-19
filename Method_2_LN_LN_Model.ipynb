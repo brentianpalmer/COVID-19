{
  "nbformat": 4,
  "nbformat_minor": 0,
  "metadata": {
    "colab": {
      "name": "Method_2_LN_LN_Model.ipynb",
      "provenance": [],
      "collapsed_sections": [],
      "authorship_tag": "ABX9TyMiB1WM5CMcQ57RUDfADZtG",
      "include_colab_link": true
    },
    "kernelspec": {
      "name": "python3",
      "display_name": "Python 3"
    },
    "language_info": {
      "name": "python"
    }
  },
  "cells": [
    {
      "cell_type": "markdown",
      "metadata": {
        "id": "view-in-github",
        "colab_type": "text"
      },
      "source": [
        "<a href=\"https://colab.research.google.com/github/brentianpalmer/COVID-19/blob/master/Method_2_LN_LN_Model.ipynb\" target=\"_parent\"><img src=\"https://colab.research.google.com/assets/colab-badge.svg\" alt=\"Open In Colab\"/></a>"
      ]
    },
    {
      "cell_type": "code",
      "metadata": {
        "id": "QBfvGwQxcOlP"
      },
      "source": [
        "import math\n",
        "import numpy as np\n",
        "from scipy.stats import norm\n",
        "import matplotlib.pyplot as plt"
      ],
      "execution_count": null,
      "outputs": []
    },
    {
      "cell_type": "code",
      "metadata": {
        "cellView": "form",
        "id": "RMt272hYcd3N"
      },
      "source": [
        "#@title\n",
        "# The primary class for calculating Generalized Black Scholes option prices and deltas\n",
        "# It is not intended to be part of this module's public interface\n",
        "\n",
        "# Inputs: option_type = \"p\" or \"c\", fs = price of underlying, x = strike, t = time to expiration, r = risk free rate\n",
        "#         b = cost of carry, v = implied volatility\n",
        "# Outputs: value, delta, gamma, theta, vega, rho\n",
        "def _gbs(option_type, fs, x, t, r, b, v):\n",
        "    # logging.debug(\"Debugging Information: _gbs()\")\n",
        "    # -----------\n",
        "    # Test Inputs (throwing an exception on failure)\n",
        "    # _gbs_test_inputs(option_type, fs, x, t, r, b, v)\n",
        "\n",
        "    # -----------\n",
        "    # Create preliminary calculations\n",
        "    t__sqrt = math.sqrt(t)\n",
        "    d1 = (math.log(fs / x) + (b + (v * v) / 2) * t) / (v * t__sqrt)\n",
        "    d2 = d1 - v * t__sqrt\n",
        "\n",
        "    if option_type == \"c\":\n",
        "        # it's a call\n",
        "        # logging.debug(\"     Call Option\")\n",
        "        value = fs * math.exp((b - r) * t) * norm.cdf(d1) - x * math.exp(-r * t) * norm.cdf(d2)\n",
        "        delta = math.exp((b - r) * t) * norm.cdf(d1)\n",
        "        gamma = math.exp((b - r) * t) * norm.pdf(d1) / (fs * v * t__sqrt)\n",
        "        theta = -(fs * v * math.exp((b - r) * t) * norm.pdf(d1)) / (2 * t__sqrt) - (b - r) * fs * math.exp(\n",
        "            (b - r) * t) * norm.cdf(d1) - r * x * math.exp(-r * t) * norm.cdf(d2)\n",
        "        vega = math.exp((b - r) * t) * fs * t__sqrt * norm.pdf(d1)\n",
        "        rho = x * t * math.exp(-r * t) * norm.cdf(d2)\n",
        "    else:\n",
        "        # # it's a put\n",
        "        # logging.debug(\"     Put Option\")\n",
        "        value = x * math.exp(-r * t) * norm.cdf(-d2) - (fs * math.exp((b - r) * t) * norm.cdf(-d1))\n",
        "        delta = -math.exp((b - r) * t) * norm.cdf(-d1)\n",
        "        gamma = math.exp((b - r) * t) * norm.pdf(d1) / (fs * v * t__sqrt)\n",
        "        theta = -(fs * v * math.exp((b - r) * t) * norm.pdf(d1)) / (2 * t__sqrt) + (b - r) * fs * math.exp(\n",
        "            (b - r) * t) * norm.cdf(-d1) + r * x * math.exp(-r * t) * norm.cdf(-d2)\n",
        "        vega = math.exp((b - r) * t) * fs * t__sqrt * norm.pdf(d1)\n",
        "        rho = -x * t * math.exp(-r * t) * norm.cdf(-d2)\n",
        "\n",
        "    # logging.debug(\"     d1= {0}\\n     d2 = {1}\".format(d1, d2))\n",
        "    # logging.debug(\"     delta = {0}\\n     gamma = {1}\\n     theta = {2}\\n     vega = {3}\\n     rho={4}\".format(delta, gamma,\n",
        "    #                                                                                                     theta, vega,\n",
        "    #                                                                                                     rho))\n",
        "\n",
        "    return value, delta, gamma, theta, vega, rho\n",
        "\n",
        "\n",
        "\n",
        "def black_76(option_type, fs, x, t, r, v):\n",
        "    \"\"\"Commodity option pricing.\n",
        "    The Black 76 model is for an option where the underlying commodity is traded\n",
        "    based on a future price rather than a spot price. Instead of dealing with a\n",
        "    spot price that drifts upwards at the risk free rate, this model deals with\n",
        "    a forward price that needs to be present valued.\n",
        "    Args:\n",
        "        option_type (str): Type of the option. \"p\" for put and \"c\" for call options.\n",
        "        fs (float): Price of underlying asset.\n",
        "        x (float): Strike price.\n",
        "        t (float): Time to expiration in years. 1 for one year, 0.5 for 6 months.\n",
        "        r (float): Risk free rate.\n",
        "        v (float): Implied volatility of underlying asset.\n",
        "    Returns:\n",
        "        value (float): Price of the option.\n",
        "        delta (float): First derivative of value with respect to price of underlying.\n",
        "        gamma (float): Second derivative of value w.r.t price of underlying.\n",
        "        theta (float): First derivative of value w.r.t. time to expiration.\n",
        "        vega (float): First derivative of value w.r.t. implied volatility.\n",
        "        rho (float): First derivative of value w.r.t. risk free rates.\n",
        "    \"\"\"\n",
        "    b = 0\n",
        "    return _gbs(option_type, fs, x, t, r, b, v)\n",
        "\n",
        "# Black Scholes: stock Options (no dividend yield)\n",
        "def black_scholes(option_type, fs, x, t, r, v):\n",
        "    b = r\n",
        "    return _gbs(option_type, fs, x, t, r, b, v)"
      ],
      "execution_count": null,
      "outputs": []
    },
    {
      "cell_type": "code",
      "metadata": {
        "colab": {
          "base_uri": "https://localhost:8080/",
          "height": 282
        },
        "cellView": "form",
        "collapsed": true,
        "id": "eX9eiuL6dSzW",
        "outputId": "29481555-e991-40f7-a2b1-6481fd604ab6"
      },
      "source": [
        "#@title\n",
        "# Generating Correlated Random Samples from Normal distribution from Hull Chapter 21\n",
        "Nsim = 100000\n",
        "rho_sl = 0.9\n",
        "rand1 = np.random.normal(0,1,Nsim) # random sample from standard normal dist\n",
        "rand2 = np.random.normal(0,1,Nsim) # another random sample from different standard normal dist\n",
        "eps = rand1 # eps for stock lognormal simulation\n",
        "eps_tilda = (rho_sl*rand1)+rand2*np.sqrt(1-rho_sl**2) # eps for libor lognormal simulation\n",
        "plt.scatter(eps,eps_tilda)"
      ],
      "execution_count": null,
      "outputs": [
        {
          "output_type": "execute_result",
          "data": {
            "text/plain": [
              "<matplotlib.collections.PathCollection at 0x7f732f3a9ad0>"
            ]
          },
          "metadata": {
            "tags": []
          },
          "execution_count": 79
        },
        {
          "output_type": "display_data",
          "data": {
            "image/png": "[encoded data removed]",
            "text/plain": [
              "<Figure size 432x288 with 1 Axes>"
            ]
          },
          "metadata": {
            "tags": [],
            "needs_background": "light"
          }
        }
      ]
    },
    {
      "cell_type": "markdown",
      "metadata": {
        "id": "-6TYGM1Idbw1"
      },
      "source": [
        "# Method II: Equity Log-normal, Libor Log-Normal"
      ]
    },
    {
      "cell_type": "markdown",
      "metadata": {
        "id": "HV-9R0Qsdnbu"
      },
      "source": [
        "### Model Parameters"
      ]
    },
    {
      "cell_type": "code",
      "metadata": {
        "id": "72_neNJ9dmmZ"
      },
      "source": [
        "# -------- Initial Values --------- # \n",
        "S0 = 271.27211906501435 # equity_initial_value NI225 quote today: 29518.3400, converted to USD: 29518.3400  / 108.8145\n",
        "q = 0.0 # Ni225 pays no div\n",
        "r_f = -0.00138 # Japan 3 year government bond yield (from market data (3yr yield)\n",
        "delta = 0.25\n",
        "T = 3.0\n",
        "\n",
        "# -------- Correlations --------- #  \n",
        "# Correlation stock and exchange rate #\n",
        "rho_sx = -0.3049678 # correl (NI225 in USD, USD/JPY (DOM exchange rate))\n",
        "\n",
        "# Correlation stock and bond #\n",
        "rho_sp = -0.65 # Correl (NI225 in USD, bond maturing in 3 years) *** THIS IS MADE UP *** \n",
        "# (maybe pull from nikkei in USD and r_f???)\n",
        "\n",
        "## Correlation stock and libor #\n",
        "rho_sl = 0.65 # Correl (NI225 in USD, Libor) *** THIS IS MADE UP ***\n",
        "\n",
        "# ** IMPORTANT ** \n",
        "# rho_sl and rho_sp are linked, but they are not the same\n",
        "# need to comment / research relationship\n",
        "# perhaps can assume rho_sl = -rho_sp  \n",
        "# ** IMPORTANT **\n",
        "\n",
        "# -------- Volatilities --------- #  \n",
        "sigma_s = 0.199468950979314 # Volatility of NI225 in USD\n",
        "sigma_x = 0.0519824811701589  # Volatility of USD/JPY (DOM exchange rate).\n",
        "sigma_l = 0.08 # Libor Vol *** THIS IS MADE UP ***\n",
        "sigma_p = 0.05 # vol of the bond that is 3 years *** THIS IS MADE UP *** "
      ],
      "execution_count": null,
      "outputs": []
    },
    {
      "cell_type": "markdown",
      "metadata": {
        "id": "1kk_d2uPSNER"
      },
      "source": [
        "### Equity Log-normal Model"
      ]
    },
    {
      "cell_type": "code",
      "metadata": {
        "id": "53t6yCuadZwK"
      },
      "source": [
        "# quanto adjustment = r_f - q - rho_sx sigma_s sigma_x \n",
        "quanto_adj = r_f - q - rho_sx * sigma_s * sigma_x\n",
        "\n",
        "girsanov_chg_measure_QT = sigma_s * sigma_p * rho_sp\n",
        "\n",
        "# Process for Generating Correlated Random Samples from Normal distribution from Hull Chapter 21\n",
        "np.random.seed(456)\n",
        "Nsim = 10000\n",
        "rand1 = np.random.normal(0,1,Nsim) # random sample from standard normal dist\n",
        "rand2 = np.random.normal(0,1,Nsim) # another random sample from different standard normal dist\n",
        "\n",
        "eps = rand1 # eps for stock lognormal simulation\n",
        "eps_tilda = (rho_sl*rand1)+rand2*np.sqrt(1-rho_sl**2) # eps for libor lognormal simulation\n",
        "\n",
        "# As a result, we now can simulate ST with a one-step monte carlo as follows:\n",
        "ST = S0 * np.exp((quanto_adj + girsanov_chg_measure_QT-0.5*sigma_s*sigma_s)*T + sigma_s*np.sqrt(T)*eps) # The MC scheme with vectorized NumPy code handling all paths at once.\n",
        "ST_avg = np.average(ST)\n",
        "\n",
        "ST_over_S0 = ST/S0\n",
        "ST_over_S0_avg = np.average(ST_over_S0)\n"
      ],
      "execution_count": null,
      "outputs": []
    },
    {
      "cell_type": "code",
      "metadata": {
        "colab": {
          "base_uri": "https://localhost:8080/",
          "height": 298
        },
        "cellView": "form",
        "id": "85jzp4SAc5HQ",
        "outputId": "d129b182-1396-4ace-bf6e-f4a64948e6cc"
      },
      "source": [
        "#@title\n",
        "# Chart for 1 step MC simulation of equity price ST\n",
        "x=[]\n",
        "y=[]\n",
        "for i in ST:\n",
        "    y.append(i)\n",
        "    y.append(S0)\n",
        "    x.append(1)            \n",
        "    x.append(0)            \n",
        "    \n",
        "plt.title(\"One-Step Monte Carlo Simulation for Stock\")\n",
        "plt.plot(x, y, label='paths')\n",
        "plt.axhline(ST.mean(), color='r', label='mean value of ST')\n",
        "plt.legend(loc='upper left')\n",
        "plt.xticks()\n",
        "plt.xticks(np.arange(0, 1.1, step=1))\n",
        "plt.xticks([0, 1],['0','T'])\n",
        "print(\"ST mean: \", ST.mean())"
      ],
      "execution_count": null,
      "outputs": [
        {
          "output_type": "stream",
          "text": [
            "ST mean:  267.35730895270837\n"
          ],
          "name": "stdout"
        },
        {
          "output_type": "display_data",
          "data": {
            "image/png": "[encoded data removed]",
            "text/plain": [
              "<Figure size 432x288 with 1 Axes>"
            ]
          },
          "metadata": {
            "tags": [],
            "needs_background": "light"
          }
        }
      ]
    },
    {
      "cell_type": "code",
      "metadata": {
        "colab": {
          "base_uri": "https://localhost:8080/",
          "height": 813
        },
        "id": "-vodZuVnkKkG",
        "outputId": "c69520e0-e00a-41fa-ed9a-db423035a1ae"
      },
      "source": [
        "#@title\n",
        "plt.figure(figsize=(10, 6))\n",
        "plt.hist(ST, bins=35, label='ST')\n",
        "plt.axvline(ST_avg, color='r', label='ST_avg')\n",
        "plt.title(\"ST Outcomes\")\n",
        "plt.legend(loc=0)\n",
        "print(\"ST_avg: \" , ST_avg)\n",
        "plt.legend(loc=0)\n",
        "\n",
        "plt.figure(figsize=(10, 6))\n",
        "plt.hist(ST_over_S0, bins=35, label='Stock Payoff (ST/SO)')\n",
        "plt.title(\"Stock Payoff (ST/S0)\")\n",
        "plt.axvline(ST_over_S0_avg, color='r', label='Stock_payoff_avg')\n",
        "plt.legend(loc=0)\n",
        "print(\"ST_over_S0_avg (ST/S0): \", ST_over_S0_avg)\n",
        "plt.legend(loc=0)\n",
        "print(\"Stock Portion of Payoff ((ST/S0)- k, where k=1): \", ST_over_S0_avg-1)\n",
        "print:(\"\\n\")"
      ],
      "execution_count": null,
      "outputs": [
        {
          "output_type": "stream",
          "text": [
            "ST_avg:  267.35730895270837\n",
            "ST_over_S0_avg (ST/S0):  0.9855686971230251\n",
            "Stock Portion of Payoff ((ST/S0)- k, where k=1):  -0.014431302876974916\n"
          ],
          "name": "stdout"
        },
        {
          "output_type": "display_data",
          "data": {
            "image/png": "[encoded data removed]",
            "text/plain": [
              "<Figure size 720x432 with 1 Axes>"
            ]
          },
          "metadata": {
            "tags": [],
            "needs_background": "light"
          }
        },
        {
          "output_type": "display_data",
          "data": {
            "image/png": "[encoded data removed]",
            "text/plain": [
              "<Figure size 720x432 with 1 Axes>"
            ]
          },
          "metadata": {
            "tags": [],
            "needs_background": "light"
          }
        }
      ]
    },
    {
      "cell_type": "code",
      "metadata": {
        "cellView": "form",
        "id": "Y_BaiIXBmlbo"
      },
      "source": [
        "#@title\n",
        "class ForwardRates(object):\n",
        "\n",
        "    def __init__(self):\n",
        "        self.forward_rates = []\n",
        "        self.spot_rates = dict()\n",
        "\n",
        "    def add_spot_rate(self, T, spot_rate):\n",
        "        self.spot_rates[T] = spot_rate\n",
        "\n",
        "    def get_forward_rates(self):\n",
        "        \"\"\"\n",
        "        Returns a list of forward rates\n",
        "        starting from the second time period.\n",
        "        \"\"\"\n",
        "        periods = sorted(self.spot_rates.keys())\n",
        "        for T2, T1 in zip(periods, periods[1:]):\n",
        "            forward_rate = self.calculate_forward_rate(T1, T2)\n",
        "            self.forward_rates.append(forward_rate)\n",
        "\n",
        "        return self.forward_rates\n",
        "\n",
        "    def calculate_forward_rate(self, T1, T2):\n",
        "        R1 = self.spot_rates[T1]\n",
        "        R2 = self.spot_rates[T2]\n",
        "        forward_rate = (R2*T2-R1*T1)/(T2-T1)\n",
        "        return forward_rate"
      ],
      "execution_count": null,
      "outputs": []
    },
    {
      "cell_type": "code",
      "metadata": {
        "cellView": "form",
        "id": "AHNWKUbUmvhF"
      },
      "source": [
        "#@title\n",
        "fr = ForwardRates()\n",
        "merged_list = tuple(zip(xp, yp))\n",
        "merged_list\n",
        "\n",
        "for i in merged_list:\n",
        "  fr.add_spot_rate(i[0],i[1])\n",
        "\n",
        "my_fr = fr.get_forward_rates()\n",
        "my_fr_copy = my_fr.copy()\n",
        "my_fr_copy.insert(0,0)"
      ],
      "execution_count": null,
      "outputs": []
    },
    {
      "cell_type": "code",
      "metadata": {
        "colab": {
          "base_uri": "https://localhost:8080/",
          "height": 421
        },
        "cellView": "form",
        "collapsed": true,
        "id": "doN7t9o-m_Bt",
        "outputId": "6992ffaa-d4de-43c0-e200-3efd2e9e014e"
      },
      "source": [
        "#@title\n",
        "plt.figure(figsize=(10, 6))\n",
        "plt.plot(xp,yp, '-*', label='Spot Rate')\n",
        "plt.plot(xp,my_fr_copy, '-*', color='r', label='Forward Rate')\n",
        "plt.title(\"Daily US Treasury Yield Curve Rate on May 10, 2021\")\n",
        "plt.xlabel('Maturity')\n",
        "plt.ylabel('Yield (y)')\n",
        "plt.legend(loc=0)"
      ],
      "execution_count": null,
      "outputs": [
        {
          "output_type": "execute_result",
          "data": {
            "text/plain": [
              "<matplotlib.legend.Legend at 0x7f732f0fbc10>"
            ]
          },
          "metadata": {
            "tags": []
          },
          "execution_count": 86
        },
        {
          "output_type": "display_data",
          "data": {
            "image/png": "[encoded data removed]",
            "text/plain": [
              "<Figure size 720x432 with 1 Axes>"
            ]
          },
          "metadata": {
            "tags": [],
            "needs_background": "light"
          }
        }
      ]
    },
    {
      "cell_type": "code",
      "metadata": {
        "colab": {
          "base_uri": "https://localhost:8080/",
          "height": 388
        },
        "cellView": "form",
        "collapsed": true,
        "id": "D5jb-LGDnCX3",
        "outputId": "48d6c852-5d74-482c-e98e-5555dc6b4c68"
      },
      "source": [
        "#@title\n",
        "x_hat = np.arange(0, 30.25, 0.25)\n",
        "y_interp = np.interp(x_hat, xp, yp)\n",
        "y_fr_interp = np.interp(x_hat,xp,my_fr_copy)\n",
        "# print(x_hat)\n",
        "\n",
        "# points = xp\n",
        "# values = yp\n",
        "# x= x_hat\n",
        "# y = y_interp\n",
        "\n",
        "plt.figure(figsize=(10, 6))\n",
        "plt.plot(xp, yp, 'o')\n",
        "plt.plot(x_hat, y_interp, 'o', alpha=0.5, label='Treasury Yield Curve')\n",
        "plt.plot(xp, my_fr_copy, '*')\n",
        "plt.plot(x_hat, y_fr_interp, '*', alpha=0.5, label=\"Forward Rate Curve\")\n",
        "plt.legend(loc=0)\n",
        "plt.xlabel(\"Maturity\")\n",
        "plt.ylabel(\"Yield\");"
      ],
      "execution_count": null,
      "outputs": [
        {
          "output_type": "display_data",
          "data": {
            "image/png": "[encoded data removed]",
            "text/plain": [
              "<Figure size 720x432 with 1 Axes>"
            ]
          },
          "metadata": {
            "tags": [],
            "needs_background": "light"
          }
        }
      ]
    },
    {
      "cell_type": "code",
      "metadata": {
        "id": "JUw2r6IgmUCm"
      },
      "source": [
        "#@title\n",
        "# Calculate L0, which is f(0,T)\n",
        "\n",
        "# Start with Daily US Treasury Yield Curve Rate on May 10, 2021\n",
        "# Date\t1 Mo\t2 Mo\t3 Mo\t6 Mo\t1 Yr\t2 Yr\t3 Yr\t5 Yr\t7 Yr\t10 Yr\t20 Yr\t30 Yr\n",
        "# 05/10/21\t0.02\t0.01\t0.02\t0.04\t0.05\t0.16\t0.32\t0.80\t1.27\t1.63\t2.20\t2.32\n",
        "# Source: https://www.treasury.gov/resource-center/data-chart-center/interest-rates/Pages/TextView.aspx?data=yield\n",
        "\n",
        "xp = [1.0/12, 2.0/12, 3.0/12, 0.5, 1, 2, 3, 5, 7, 10, 20, 30]\n",
        "yp = [0.02,\t0.01,\t0.02,\t0.04,\t0.05,\t0.16,\t0.32,\t0.80,\t1.27,\t1.63,\t2.20,\t2.32]"
      ],
      "execution_count": null,
      "outputs": []
    },
    {
      "cell_type": "code",
      "metadata": {
        "colab": {
          "base_uri": "https://localhost:8080/"
        },
        "id": "bW5aZzRRquSr",
        "outputId": "20822438-b23f-44c0-904f-1e71410541bd"
      },
      "source": [
        "ytm1 = 0.32 # yield on 3Y treasury; used to calculate p(0,T), where T=3 yrs. \n",
        "# ytm1 = 0.32, yield on 3Y treasury\n",
        "print (\"ytm1:\", ytm1)\n",
        "\n",
        "ytm2 = np.interp(T-delta, xp, yp) #yield to maturity for T-delta (2.75 months here)\n",
        "print (\"ytm2:\", ytm2)\n",
        "p_0T = 1.0/(1+ytm1/100)**T #price of p(0,T)\n",
        "p_0Td = 1.0/(1+ytm2/100)**(T-delta) #price of p(0,T-delta)\n",
        "\n",
        "print(\"p_0T: \",p_0T,)\n",
        "print(\"p_0Td: \", p_0Td)"
      ],
      "execution_count": null,
      "outputs": [
        {
          "output_type": "stream",
          "text": [
            "ytm1: 0.32\n",
            "ytm2: 0.28\n",
            "p_0T:  0.9904611138858473\n",
            "p_0Td:  0.9923402465011337\n"
          ],
          "name": "stdout"
        }
      ]
    },
    {
      "cell_type": "code",
      "metadata": {
        "id": "Hrv-OHEV81la"
      },
      "source": [
        "# L0 from Treasury YC via NS method:\n",
        "# L0 = f(0,T)\n",
        "L0 = 0.0034"
      ],
      "execution_count": null,
      "outputs": []
    },
    {
      "cell_type": "code",
      "metadata": {
        "id": "LvTB0fHqoBK8"
      },
      "source": [
        "L_Td = L0 * np.exp(sigma_l * np.sqrt(T - delta) * eps_tilda - 0.5*sigma_l*sigma_l*(T-delta))\n",
        "L_Td_avg = np.average(L_Td)"
      ],
      "execution_count": null,
      "outputs": []
    },
    {
      "cell_type": "code",
      "metadata": {
        "colab": {
          "base_uri": "https://localhost:8080/",
          "height": 406
        },
        "id": "Q-SzyX-6O011",
        "outputId": "f1895510-31eb-4a1c-e009-d6ea94dce26b"
      },
      "source": [
        "plt.figure(figsize=(10, 6))\n",
        "plt.hist(L_Td,  label='L_Td')\n",
        "plt.axvline(L_Td_avg, color='r', label='L_Td_avg')\n",
        "plt.title(\"L_Td Outcomes\")\n",
        "plt.legend(loc=0)"
      ],
      "execution_count": null,
      "outputs": [
        {
          "output_type": "execute_result",
          "data": {
            "text/plain": [
              "<matplotlib.legend.Legend at 0x7f732f786dd0>"
            ]
          },
          "metadata": {
            "tags": []
          },
          "execution_count": 92
        },
        {
          "output_type": "display_data",
          "data": {
            "image/png": "[encoded data removed]",
            "text/plain": [
              "<Figure size 720x432 with 1 Axes>"
            ]
          },
          "metadata": {
            "tags": [],
            "needs_background": "light"
          }
        }
      ]
    },
    {
      "cell_type": "code",
      "metadata": {
        "id": "qGpbtbU0FVK8"
      },
      "source": [
        "p_temp1 = p_0T + L_Td * delta * p_0T"
      ],
      "execution_count": null,
      "outputs": []
    },
    {
      "cell_type": "code",
      "metadata": {
        "id": "RzElZ79iFkxA"
      },
      "source": [
        "p_temp2 = np.zeros_like(p_temp1)\n",
        "p_temp2 = p_0T/p_0Td"
      ],
      "execution_count": null,
      "outputs": []
    },
    {
      "cell_type": "code",
      "metadata": {
        "colab": {
          "base_uri": "https://localhost:8080/"
        },
        "id": "CfudXTkczfWh",
        "outputId": "65016a6d-8897-4549-c474-6235fcb84b98"
      },
      "source": [
        "#Libor portion of final payoff\n",
        "#p(T-Delta,T) and p(0,T-Delta) are both input from the simulated Libor portion\n",
        "def L_portion(pTdT, p_0Td):\n",
        "    return ((1-pTdT)*(p_0T))/(pTdT*(p_0Td-p_0T))\n",
        "\n",
        "L_portion = L_portion(p_temp2, p_temp1)\n",
        "L_portion_avg = np.average(L_portion)\n",
        "L_portion_avg"
      ],
      "execution_count": null,
      "outputs": [
        {
          "output_type": "execute_result",
          "data": {
            "text/plain": [
              "2.272674493955732"
            ]
          },
          "metadata": {
            "tags": []
          },
          "execution_count": 95
        }
      ]
    },
    {
      "cell_type": "code",
      "metadata": {
        "colab": {
          "base_uri": "https://localhost:8080/",
          "height": 406
        },
        "id": "qNbZ2d9yG-N4",
        "outputId": "dc06856e-ad91-4976-93ec-445339724cec"
      },
      "source": [
        "plt.figure(figsize=(10, 6))\n",
        "plt.hist(L_portion, label='L_portion')\n",
        "plt.axvline(L_portion_avg, color='r', label='L_portion_avg')\n",
        "plt.title(\"LT Outcomes\")\n",
        "plt.legend(loc=0)"
      ],
      "execution_count": null,
      "outputs": [
        {
          "output_type": "execute_result",
          "data": {
            "text/plain": [
              "<matplotlib.legend.Legend at 0x7f732f8c3490>"
            ]
          },
          "metadata": {
            "tags": []
          },
          "execution_count": 96
        },
        {
          "output_type": "display_data",
          "data": {
            "image/png": "[encoded data removed]",
            "text/plain": [
              "<Figure size 720x432 with 1 Axes>"
            ]
          },
          "metadata": {
            "tags": [],
            "needs_background": "light"
          }
        }
      ]
    },
    {
      "cell_type": "code",
      "metadata": {
        "id": "uy_aL4VJJRdX"
      },
      "source": [
        "S0_denom = np.ones_like(ST)*S0"
      ],
      "execution_count": null,
      "outputs": []
    },
    {
      "cell_type": "code",
      "metadata": {
        "colab": {
          "base_uri": "https://localhost:8080/",
          "height": 298
        },
        "id": "OZPq0qvtHmnZ",
        "outputId": "1e7ae0cb-a615-46b2-a4ea-a60bafd8f66a"
      },
      "source": [
        "k_stock_lognormal = 1\n",
        "k_libor_lognormal = 1\n",
        "pi = np.maximum(0, np.multiply((ST/S0_denom - k_stock_lognormal), (k_libor_lognormal-L_portion)))\n",
        "plt.hist(pi,bins=50)\n",
        "plt.title(\"Method 2: payoff at T\")\n",
        "print(\"Average payoff is:\", np.average(pi))"
      ],
      "execution_count": null,
      "outputs": [
        {
          "output_type": "stream",
          "text": [
            "Average payoff is: 0.2156762871315974\n"
          ],
          "name": "stdout"
        },
        {
          "output_type": "display_data",
          "data": {
            "image/png": "[encoded data removed]",
            "text/plain": [
              "<Figure size 432x288 with 1 Axes>"
            ]
          },
          "metadata": {
            "tags": [],
            "needs_background": "light"
          }
        }
      ]
    },
    {
      "cell_type": "code",
      "metadata": {
        "colab": {
          "base_uri": "https://localhost:8080/"
        },
        "id": "9oGHjVdQLwAl",
        "outputId": "82d52f69-f336-41e7-a607-32a4e2ce848e"
      },
      "source": [
        "price = p_0T * np.average(pi)\n",
        "print(price)"
      ],
      "execution_count": null,
      "outputs": [
        {
          "output_type": "stream",
          "text": [
            "0.2136189755911258\n"
          ],
          "name": "stdout"
        }
      ]
    }
  ]
}